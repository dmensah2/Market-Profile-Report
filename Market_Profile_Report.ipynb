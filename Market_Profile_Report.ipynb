{
 "cells": [
  {
   "cell_type": "code",
   "execution_count": 2,
   "metadata": {},
   "outputs": [],
   "source": [
    "#Author: Deidre Mensah\n",
    "#Date:05/09/2020\n",
    "#Purpose: to generate reports using local business analyst data\n",
    "\n",
    "import arcpy, csv\n",
    "import googlemaps\n",
    "from arcpy import ba\n",
    "from tkinter import filedialog\n",
    "import requests\n",
    "import requests_cache\n",
    "import glob\n",
    "import os"
   ]
  },
  {
   "cell_type": "code",
   "execution_count": 3,
   "metadata": {},
   "outputs": [
    {
     "data": {
      "text/plain": [
       "<module 'ba'>"
      ]
     },
     "execution_count": 3,
     "metadata": {},
     "output_type": "execute_result"
    }
   ],
   "source": [
    "# Set environment settings\n",
    "arcpy.env.workspace = filedialog.askdirectory()\n",
    "wksp = arcpy.env.workspace\n",
    "\n",
    "# enables overwriting the output\n",
    "arcpy.env.overwriteOutput = True\n",
    "\n",
    "# access data locally\n",
    "arcpy.env.baDataSource = \"LOCAL;;USA_ESRI_2019\"\n",
    "\n",
    "# imports toolbox\n",
    "arcpy.AddToolbox(\"C:\\Program Files\\ArcGIS\\Pro\\Resources\\ArcToolBox\\Toolboxes\\Business Analyst Tools.tbx\")"
   ]
  },
  {
   "cell_type": "code",
   "execution_count": 4,
   "metadata": {},
   "outputs": [],
   "source": [
    "# gets your API with the API key\n",
    "gmaps = googlemaps.Client(key='INSERT_API_KEY_HERE')"
   ]
  },
  {
   "cell_type": "code",
   "execution_count": 5,
   "metadata": {},
   "outputs": [],
   "source": [
    "# create database to store cached results to\n",
    "requests_cache.install_cache(\"MarketProfile_cache\")"
   ]
  },
  {
   "cell_type": "code",
   "execution_count": 6,
   "metadata": {},
   "outputs": [],
   "source": [
    " # create csv to write lat and long to\n",
    "wb = open(\"PointofInterest.csv\", \"w\", newline='')\n",
    "POI = csv.DictWriter(wb, fieldnames=[\"Long\", \"Lat\"])\n",
    "POI.writeheader()"
   ]
  },
  {
   "cell_type": "code",
   "execution_count": 7,
   "metadata": {},
   "outputs": [
    {
     "name": "stdout",
     "output_type": "stream",
     "text": [
      "Enter your address: 871 belleville dr, valley cottage, ny\n"
     ]
    }
   ],
   "source": [
    "# get address input\n",
    "address = str(input(\"Enter your address: \"))"
   ]
  },
  {
   "cell_type": "code",
   "execution_count": 9,
   "metadata": {},
   "outputs": [],
   "source": [
    "# geocodes address\n",
    "geocode_result = gmaps.geocode(address)\n",
    "\n",
    "y = geocode_result[0][\"geometry\"][\"location\"][\"lat\"]\n",
    "x = geocode_result[0][\"geometry\"][\"location\"][\"lng\"]\n",
    "\n",
    "row = {\"Long\": x, \"Lat\": y}\n",
    "POI.writerow(row)\n",
    "\n",
    "# close file\n",
    "wb.close()\n",
    "\n",
    "# define name of csv file\n",
    "table = \"PointofInterest.csv\""
   ]
  },
  {
   "cell_type": "code",
   "execution_count": 25,
   "metadata": {},
   "outputs": [
    {
     "ename": "AttributeError",
     "evalue": "'ToolValidator' object has no attribute 'isLicensed'",
     "output_type": "error",
     "traceback": [
      "\u001b[1;31m---------------------------------------------------------------------------\u001b[0m",
      "\u001b[1;31mAttributeError\u001b[0m                            Traceback (most recent call last)",
      "\u001b[1;32mc:\\program files\\arcgis\\pro\\Resources\\ArcToolbox\\toolboxes\\Data Management Tools.tbx#XYTableToPoint_management.InitializeParameters.py\u001b[0m in \u001b[0;36m<module>\u001b[1;34m\u001b[0m\n",
      "\u001b[1;31mAttributeError\u001b[0m: 'ToolValidator' object has no attribute 'isLicensed'"
     ]
    },
    {
     "ename": "AttributeError",
     "evalue": "'ToolValidator' object has no attribute 'isLicensed'",
     "output_type": "error",
     "traceback": [
      "\u001b[1;31m---------------------------------------------------------------------------\u001b[0m",
      "\u001b[1;31mAttributeError\u001b[0m                            Traceback (most recent call last)",
      "\u001b[1;32mc:\\program files\\arcgis\\pro\\Resources\\ArcToolbox\\toolboxes\\Data Management Tools.tbx#XYTableToPoint_management.InitializeParameters.py\u001b[0m in \u001b[0;36m<module>\u001b[1;34m\u001b[0m\n",
      "\u001b[1;31mAttributeError\u001b[0m: 'ToolValidator' object has no attribute 'isLicensed'"
     ]
    },
    {
     "name": "stdout",
     "output_type": "stream",
     "text": [
      "point generated\n"
     ]
    }
   ],
   "source": [
    "# create file .gdb\n",
    "arcpy.CreateFileGDB_management(wksp, \"data.gdb\")\n",
    "\n",
    "# convert table data to point feature class\n",
    "xylayer = arcpy.management.XYTableToPoint(table, wksp + \"/data.gdb/PointofInterest\", \"Long\".encode(),\n",
    "                                          \"Lat\".encode())\n",
    "print(\"point generated\")\n",
    "\n",
    "# copy feature class to shapefile layer we'll need to pass through the trade area rings tool\n",
    "fc = arcpy.management.CopyFeatures(xylayer, \"Points_Of_Interest.shp\")\n",
    "\n",
    "# add ID field\n",
    "fc = arcpy.AddField_management(fc, \"Address\", \"TEXT\", \"\", \"\", \"\", \"refcode\", \"NULLABLE\", \"REQUIRED\")"
   ]
  },
  {
   "cell_type": "code",
   "execution_count": 20,
   "metadata": {},
   "outputs": [
    {
     "name": "stdout",
     "output_type": "stream",
     "text": [
      "Your geocoded address is: 871 Belleville Dr, Valley Cottage, NY 10989, USA\n"
     ]
    }
   ],
   "source": [
    "# sets up read-write access to feature class\n",
    "with arcpy.da.UpdateCursor(fc, \"Address\") as cursor:\n",
    "    # loop through feature class rows\n",
    "    for row in cursor:\n",
    "        row = geocode_result[0][\"formatted_address\"]\n",
    "        # update cursor with new address\n",
    "        cursor.updateRow([row])\n",
    "        #checks to make sure that you returned a google geocoded address\n",
    "        print (\"Your geocoded address is: \" + geocode_result[0][\"formatted_address\"])"
   ]
  },
  {
   "cell_type": "code",
   "execution_count": 21,
   "metadata": {},
   "outputs": [
    {
     "name": "stdout",
     "output_type": "stream",
     "text": [
      "Your folder name is: 871_Belleville Drive_NY\n"
     ]
    }
   ],
   "source": [
    "# creates list of features to be deleted from workspace\n",
    "in_features = [\"Points_Of_Interest.shp\", \"Points_of_Interest_TA.shp\"]\n",
    "\n",
    "#name of folder to output folder to within workspace folder\n",
    "folder_name = geocode_result[0][\"address_components\"][0][\"short_name\"] + \"_\" + geocode_result[0][\"address_components\"][1][\"long_name\"] + \"_\" + geocode_result[0][\"address_components\"][5][\"short_name\"]\n",
    "\n",
    "print (\"Your folder name is: \" + folder_name)"
   ]
  },
  {
   "cell_type": "code",
   "execution_count": 22,
   "metadata": {
    "scrolled": true
   },
   "outputs": [
    {
     "name": "stdout",
     "output_type": "stream",
     "text": [
      "Enter report type: mp = market profile, bs = Business summary, cp = Community Profile, dip = Demographic and Income Profilemp\n",
      "Enter DT for Drive Times or TA for Trade Areas: ta\n",
      "Number of areas to generate: 2\n",
      "Ring #1 (Miles): 1\n",
      "Ring #2 (Miles): 2\n",
      "Report exporting...\n",
      "Report Generated\n"
     ]
    }
   ],
   "source": [
    "#ask user what type of report they want to run\n",
    "report_type = input(\"Enter report type: mp = market profile, bs = Business summary, cp = Community Profile, dip = Demographic and Income Profile\")\n",
    "\n",
    "# specifies the name of the report that will be run based on user input. will also be used as folder name that we will zip up\n",
    "if report_type == \"mp\" or report_type == \"Mp\" or report_type == \"MP\":\n",
    "    report = \"Market Profile\"\n",
    "elif report_type == \"bs\"or report_type == \"BS\" or report_type == \"Bs\":\n",
    "    report =\"Business Summary\"\n",
    "elif report_type == \"cp\"or report_type == \"CP\" or report_type == \"Cp\":\n",
    "    report = \"Community Profile\"\n",
    "elif report_type == \"dip\" or report_type == \"DIP\" or report_type == \"dip\":\n",
    "    report = \"Demographic and Income Profile\"\n",
    "else: \n",
    "    print (\"Incorrect entry. Enter another report type.\")\n",
    "    \n",
    "# ask user if they are running drive time or trade area rings\n",
    "ringtype = input(\"Enter DT for Drive Times or TA for Trade Areas: \")\n",
    "if ringtype == \"TA\" or ringtype == \"ta\" or ringtype == \"Ta\":\n",
    "    ta_rings = int(input(\"Number of areas to generate: \"))\n",
    "    if ta_rings == 4:\n",
    "        # generate trade area rings from user input\n",
    "        ta = arcpy.ba.GenerateTradeAreaRings(fc, \"Points_of_Interest_TA.shp\",\n",
    "                                             [input(\"Ring #1 (Miles): \"),\n",
    "                                              input(\"Ring #2 (Miles): \"),\n",
    "                                              input(\"Ring #3 (Miles): \"),\n",
    "                                              input(\"Ring #4 (Miles): \")], \"MILES\",\n",
    "                                             \"Address\", \"KEEP_OVERLAP\")\n",
    "        print (\"Report exporting...\")\n",
    "        # defines report type and features of report\n",
    "        arcpy.SummaryReports_ba(ta, report, wksp + \"/\" + report+ \"/\" + folder_name,\n",
    "                                                                    \"INDIVIDUAL_FEATURES\", \"CREATE_REPORT_PER_TEMPLATE\", \n",
    "                                                                    \"PDF\", \"Address\", None, None, \"STORE_LAT\", \"STORE_LON\", \"RING\", \"AREA_DESC\",\n",
    "                                                                    report + \"Report\", \"Prepared By Business Analyst Pro\")\n",
    "        print (\"Report Generated\")\n",
    "        # Execute FeatureClassToGeodatabase\n",
    "        arcpy.FeatureClassToGeodatabase_conversion(in_features, wksp + \"/data.gdb\")\n",
    "        # delete shapefiles\n",
    "        arcpy.management.Delete(r\"'Points_Of_Interest.shp';'Points_of_Interest_TA.shp'\")\n",
    "\n",
    "    elif ta_rings == 3:\n",
    "        ta = arcpy.ba.GenerateTradeAreaRings(fc, \"Points_of_Interest_TA.shp\",\n",
    "                                             [input(\"Ring #1 (Miles): \"),\n",
    "                                              input(\"Ring #2 (Miles): \"),\n",
    "                                              input(\"Ring #3 (Miles): \")], \"MILES\", \"Address\", \"KEEP_OVERLAP\")\n",
    "        print (\"Report exporting...\")\n",
    "        # defines report type and features of report\n",
    "        arcpy.SummaryReports_ba(ta, \"Market Profile\", wksp + \"/\" + folder_name, \"INDIVIDUAL_FEATURES\", \"CREATE_REPORT_PER_TEMPLATE\",\n",
    "                                \"PDF\", \"Address\", None, None, \"STORE_LAT\", \"STORE_LON\", \"RING\", \"AREA_DESC\",\n",
    "                                \"Market Profile Report\", \"Prepared By Business Analyst Pro\")\n",
    "        print(\"Report Generated\")\n",
    "        # Execute FeatureClassToGeodatabase\n",
    "        arcpy.FeatureClassToGeodatabase_conversion(in_features, wksp + \"/data.gdb\")\n",
    "        # delete shapefiles\n",
    "        arcpy.management.Delete(r\"'Points_Of_Interest.shp';'Points_of_Interest_TA.shp'\")\n",
    "\n",
    "    elif ta_rings == 2:\n",
    "        ta = arcpy.ba.GenerateTradeAreaRings(fc, \"Points_of_Interest_TA.shp\",\n",
    "                                             [input(\"Ring #1 (Miles): \"),\n",
    "                                              input(\"Ring #2 (Miles): \")], \"MILES\",\n",
    "                                             \"Address\", \"KEEP_OVERLAP\")\n",
    "        print (\"Report exporting...\")\n",
    "        # defines report type and features of report\n",
    "        arcpy.SummaryReports_ba(ta, \"Market Profile\", wksp + \"/\" + folder_name, \"INDIVIDUAL_FEATURES\", \"CREATE_REPORT_PER_TEMPLATE\",\n",
    "                                \"PDF\", \"Address\", None, None, \"STORE_LAT\", \"STORE_LON\", \"RING\", \"AREA_DESC\",\n",
    "                                \"Market Profile Report\", \"Prepared By Business Analyst Pro\")\n",
    "        print(\"Report Generated\")\n",
    "        # Execute FeatureClassToGeodatabase\n",
    "        arcpy.FeatureClassToGeodatabase_conversion(in_features, wksp + \"/data.gdb\")\n",
    "        # delete shapefiles\n",
    "        arcpy.management.Delete(r\"'Points_Of_Interest.shp';'Points_of_Interest_TA.shp'\")\n",
    "\n",
    "    elif ta_rings == 1:\n",
    "        ta = arcpy.ba.GenerateTradeAreaRings(fc, \"Points_of_Interest_TA.shp\",\n",
    "                                             [input(\"Ring #1 (Miles): \")], \"MILES\",\n",
    "                                             \"Address\", \"KEEP_OVERLAP\")\n",
    "        print (\"Report exporting...\")\n",
    "        # defines report type and features of report\n",
    "        arcpy.SummaryReports_ba(ta, \"Market Profile\", wksp + \"/\" + folder_name, \"INDIVIDUAL_FEATURES\",\n",
    "                                \"CREATE_REPORT_PER_TEMPLATE\",\n",
    "                                \"PDF\", \"Address\", None, None, \"STORE_LAT\", \"STORE_LON\", \"RING\", \"AREA_DESC\",\n",
    "                                \"Market Profile Report\", \"Prepared By Business Analyst Pro\")\n",
    "        print(\"Report Generated\")\n",
    "        # Execute FeatureClassToGeodatabase\n",
    "        arcpy.FeatureClassToGeodatabase_conversion(in_features, wksp + \"/data.gdb\")\n",
    "        # delete shapefiles\n",
    "        arcpy.management.Delete(r\"'Points_Of_Interest.shp';'Points_of_Interest_TA.shp'\")\n",
    "\n",
    "    else:\n",
    "        print(\"ERROR: Enter a number between 1 and 4.\")\n",
    "\n",
    "elif ringtype == \"DT\" or ringtype == \"dt\" or ringtype == \"Dt\":\n",
    "    # ask user how many rings they want to generate\n",
    "    drive_time_area = int(input(\"Number of rings to generate: \"))\n",
    "    if drive_time_area == 4:\n",
    "        ta = arcpy.ba.GenerateDriveTimeTradeArea(fc, wksp + \"/data.gdb/Point_of_Interest_DT\",\n",
    "                                                 \"Driving Time\", [input(\"Ring #1 - Drive Time (Min): \"),\n",
    "                                                                  input(\"Ring #2 - Drive Time (Min): \"),\n",
    "                                                                  input(\"Ring #3 - Drive Time (Min): \"),\n",
    "                                                                  input(\"Ring #4 - Drive Time (Min): \")], \"MINUTES\",\n",
    "                                                 None,\n",
    "                                                 \"OVERLAP\", \"KEEP_OVERLAP\",\n",
    "                                                 \"TOWARD_STORES\", None, \"TIME_ZONE_AT_LOCATION\", None, \"STANDARD\")\n",
    "        print (\"Report exporting...\")\n",
    "        arcpy.SummaryReports_ba(ta, \"Market Profile\", wksp + \"/\" + folder_name, \"INDIVIDUAL_FEATURES\",\n",
    "                                \"CREATE_REPORT_PER_TEMPLATE\",\n",
    "                                \"PDF\", \"Address\", None, None, \"STORE_LAT\", \"STORE_LON\", \"RING\", \"AREA_DESC\",\n",
    "                                \"Market Profile Report\", \"Prepared By Business Analyst Pro\")\n",
    "        print(\"report generated\")\n",
    "        # Execute FeatureClassToGeodatabase\n",
    "        arcpy.FeatureClassToGeodatabase_conversion(\"Points_Of_Interest.shp\", wksp + \"/data.gdb\")\n",
    "        # delete shapefiles\n",
    "        arcpy.management.Delete(r\"'Points_Of_Interest.shp'\")\n",
    "\n",
    "    elif drive_time_area == 3:\n",
    "        ta = arcpy.ba.GenerateDriveTimeTradeArea(fc, wksp + \"/data.gdb/Point_of_Interest_DT\",\n",
    "                                                 \"Driving Time\", [input(\"Ring #1 - Drive Time (Min): \"),\n",
    "                                                                  input(\"Ring #2 - Drive Time (Min): \"),\n",
    "                                                                  input(\"Ring #3 - Drive Time (Min): \")], \"MINUTES\", None, \"OVERLAP\", \"KEEP_OVERLAP\", \"TOWARD_STORES\", None, \"TIME_ZONE_AT_LOCATION\", None, \"STANDARD\")\n",
    "        print (\"Report exporting...\")\n",
    "        arcpy.SummaryReports_ba(ta, \"Market Profile\", wksp + \"/\" + folder_name, \"INDIVIDUAL_FEATURES\",\n",
    "                                \"CREATE_REPORT_PER_TEMPLATE\",\n",
    "                                \"PDF\", \"Address\", None, None, \"STORE_LAT\", \"STORE_LON\", \"RING\", \"AREA_DESC\",\n",
    "                                \"Market Profile Report\", \"Prepared By Business Analyst Pro\")\n",
    "        print(\"Report Generated\")\n",
    "        # Execute FeatureClassToGeodatabase\n",
    "        arcpy.FeatureClassToGeodatabase_conversion(\"Points_Of_Interest.shp\", wksp + \"/data.gdb\")\n",
    "        # delete shapefiles\n",
    "        arcpy.management.Delete(r\"'Points_Of_Interest.shp'\")\n",
    "\n",
    "    elif drive_time_area == 2:\n",
    "        ta = arcpy.ba.GenerateDriveTimeTradeArea(fc, wksp + \"/data.gdb/Point_of_Interest_DT\",\n",
    "                                                 \"Driving Time\", [input(\"Ring #1 - Drive Time (Min): \"),\n",
    "                                                                  input(\"Ring #2 - Drive Time (Min): \")], \"MINUTES\",\n",
    "                                                 None,\n",
    "                                                 \"OVERLAP\", \"KEEP_OVERLAP\",\n",
    "                                                 \"TOWARD_STORES\", None, \"TIME_ZONE_AT_LOCATION\", None, \"STANDARD\")\n",
    "        print (\"Report exporting...\")\n",
    "        arcpy.SummaryReports_ba(ta, \"Market Profile\", wksp + \"/\" + folder_name, \"INDIVIDUAL_FEATURES\",\n",
    "                                \"CREATE_REPORT_PER_TEMPLATE\",\n",
    "                                \"PDF\", \"Address\", None, None, \"STORE_LAT\", \"STORE_LON\", \"RING\", \"AREA_DESC\",\n",
    "                                \"Market Profile Report\", \"Prepared By Business Analyst Pro\")\n",
    "        print(\"Report Generated\")\n",
    "        # Execute FeatureClassToGeodatabase\n",
    "        arcpy.FeatureClassToGeodatabase_conversion(\"Points_Of_Interest.shp\", wksp + \"/data.gdb\")\n",
    "        # delete shapefiles\n",
    "        arcpy.management.Delete(r\"'Points_Of_Interest.shp'\")\n",
    "\n",
    "    elif drive_time_area == 1:\n",
    "        ta = arcpy.ba.GenerateDriveTimeTradeArea(fc, wksp + \"/data.gdb/Point_of_Interest_DT\",\n",
    "                                                 \"Driving Time\", [input(\"Ring #1 - Drive Time (Min): \")], \"MINUTES\",\n",
    "                                                 None,\n",
    "                                                 \"OVERLAP\", \"KEEP_OVERLAP\",\n",
    "                                                 \"TOWARD_STORES\", None, \"TIME_ZONE_AT_LOCATION\", None, \"STANDARD\")\n",
    "        print (\"Report exporting...\")\n",
    "        arcpy.SummaryReports_ba(ta, \"Market Profile\", wksp + \"/\" + folder_name, \"INDIVIDUAL_FEATURES\",\n",
    "                                \"CREATE_REPORT_PER_TEMPLATE\",\n",
    "                                \"PDF\", \"Address\", None, None, \"STORE_LAT\", \"STORE_LON\", \"RING\", \"AREA_DESC\",\n",
    "                                \"Market Profile Report\", \"Prepared By Business Analyst Pro\")\n",
    "        print(\"Report Generated\")\n",
    "        # Execute FeatureClassToGeodatabase\n",
    "        arcpy.FeatureClassToGeodatabase_conversion(\"Points_Of_Interest.shp\", wksp + \"/data.gdb\")\n",
    "        # delete shapefiles\n",
    "        arcpy.management.Delete(r\"'Points_Of_Interest.shp'\")\n",
    "\n",
    "    else:\n",
    "        print(\"ERROR: Enter a number between 1 and 4.\")\n",
    "else:\n",
    "    print(\"ERROR: Enter in DT or TA.\")"
   ]
  },
  {
   "cell_type": "markdown",
   "metadata": {},
   "source": []
  },
  {
   "cell_type": "code",
   "execution_count": null,
   "metadata": {},
   "outputs": [],
   "source": []
  }
 ],
 "metadata": {
  "kernelspec": {
   "display_name": "Python 3",
   "language": "python",
   "name": "python3"
  },
  "language_info": {
   "codemirror_mode": {
    "name": "ipython",
    "version": 3
   },
   "file_extension": ".py",
   "mimetype": "text/x-python",
   "name": "python",
   "nbconvert_exporter": "python",
   "pygments_lexer": "ipython3",
   "version": "3.6.9"
  }
 },
 "nbformat": 4,
 "nbformat_minor": 2
}
